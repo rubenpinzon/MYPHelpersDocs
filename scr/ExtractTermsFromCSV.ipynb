{
 "cells": [
  {
   "cell_type": "markdown",
   "metadata": {},
   "source": [
    "## File to convert a CSV file containing the command terms to an HTML table. "
   ]
  },
  {
   "cell_type": "code",
   "execution_count": 39,
   "metadata": {},
   "outputs": [
    {
     "name": "stdout",
     "output_type": "stream",
     "text": [
      "<!--Generated programmatically with Python -->\n",
      "<tr>\n",
      "<td class=\"tooltip\">Analyse<span class=\"tooltiptext green\">Break down in order to bring out the essential elements or structure. (To identify parts and relationships, and to interpret information to reach conclusions.)</span></td>\n",
      "<td class=\"tooltip\">Apply<span class=\"tooltiptext green\">Use knowledge and understanding in response to a given situation or real circumstances. Use an idea, equation, principle, theory or law in relation to a given problem or issue.</span></td>\n",
      "<td class=\"tooltip\">Construct<span class=\"tooltiptext green\">Display information in a diagrammatic or logical form.</span></td>\n",
      "<tr>\n",
      "<td class=\"tooltip\">Define<span class=\"tooltiptext blue\">Give the precise meaning of a word, phrase, concept or physical quantity.</span></td>\n",
      "<td class=\"tooltip\">Demonstrate<span class=\"tooltiptext blue\">Make clear by reasoning or evidence, illustrating with examples or practical application.</span></td>\n",
      "<td class=\"tooltip\">Describe<span class=\"tooltiptext blue\">Give a detailed account or picture of a situation, event, pattern or process.</span></td>\n",
      "<tr>\n",
      "<td class=\"tooltip\">Design<span class=\"tooltiptext red\">Produce a plan, simulation or model.</span></td>\n",
      "<td class=\"tooltip\">Develop<span class=\"tooltiptext red\">Improve incrementally, elaborate or expand in detail. Evolve to a more advanced or effective state.</span></td>\n",
      "<td class=\"tooltip\">Evaluate<span class=\"tooltiptext red\">Make an appraisal by weighing up the strengths and limitations.</span></td>\n",
      "<tr>\n",
      "<td class=\"tooltip\">Explain<span class=\"tooltiptext red\">Give a detailed account including reasons or causes. (See also “Justify”.)</span></td>\n",
      "<td class=\"tooltip\">Identify<span class=\"tooltiptext red\">Provide an answer from a number of possibilities. Recognize and state briefly a distinguishing fact or feature.</span></td>\n",
      "<td class=\"tooltip\">Investigate<span class=\"tooltiptext red\">Observe, study, or make a detailed and systematic examination, in order to establish facts and reach new conclusions.</span></td>\n",
      "<tr>\n",
      "<td class=\"tooltip\">Justify<span class=\"tooltiptext green\">Give valid reasons or evidence to support an answer or conclusion. (See also “Explain”.)</span></td>\n",
      "<td class=\"tooltip\">List<span class=\"tooltiptext green\">Give a sequence of brief answers with no explanation.</span></td>\n",
      "<td class=\"tooltip\">Outline<span class=\"tooltiptext green\">Give a brief account or summary.</span></td>\n",
      "<tr>\n",
      "<td class=\"tooltip\">Recall<span class=\"tooltiptext blue\">Remember or recognize from prior learning experiences.</span></td>\n",
      "<td class=\"tooltip\">Solve<span class=\"tooltiptext blue\">Obtain the answer(s) using appropriate methods.</span></td>\n",
      "<td class=\"tooltip\">State<span class=\"tooltiptext blue\">Give a specific name, value or other brief answer without explanation or calculation.</span></td>\n",
      "<tr>\n",
      "<td class=\"tooltip\">Suggest<span class=\"tooltiptext red\">Propose a solution, hypothesis or other possible answer.</span></td>\n",
      "<td class=\"tooltip\">Summarize<span class=\"tooltiptext red\">Abstract a general theme or major point(s).</span></td>\n"
     ]
    }
   ],
   "source": [
    "import csv\n",
    "\n",
    "col_per_row = 3\n",
    "head = '<td class=\"tooltip\">'\n",
    "tail = '</td>'\n",
    "head_row = '<tr>'\n",
    "head_def = '<span class=\"tooltiptext {}\">'\n",
    "tail_def = '</span></td>'\n",
    "color = ['red', 'green', 'blue',  'red']\n",
    "filename = 'physical_commands.csv'\n",
    "#Get the terms in a dictionary\n",
    "terms = dict();\n",
    "curr_color = 0\n",
    "print('<!--Generated programmatically with Python -->')\n",
    "with open(filename) as csvfile:\n",
    "    readCSV = csv.reader(csvfile, delimiter='\\t')\n",
    "    next(readCSV, None)\n",
    "    for k, row in enumerate(readCSV):\n",
    "        term = row[0]\n",
    "        definition = row[1]\n",
    "        if k%col_per_row == 0:\n",
    "            print(head_row)\n",
    "            curr_color +=1\n",
    "            if curr_color>col_per_row:\n",
    "                curr_color = 0\n",
    "        print(head + term + head_def.format(color[curr_color]) + definition + tail_def)   \n",
    "        \n",
    "        "
   ]
  },
  {
   "cell_type": "code",
   "execution_count": null,
   "metadata": {
    "collapsed": true
   },
   "outputs": [],
   "source": []
  }
 ],
 "metadata": {
  "kernelspec": {
   "display_name": "Python 3",
   "language": "python",
   "name": "python3"
  },
  "language_info": {
   "codemirror_mode": {
    "name": "ipython",
    "version": 3
   },
   "file_extension": ".py",
   "mimetype": "text/x-python",
   "name": "python",
   "nbconvert_exporter": "python",
   "pygments_lexer": "ipython3",
   "version": "3.6.2"
  }
 },
 "nbformat": 4,
 "nbformat_minor": 2
}
