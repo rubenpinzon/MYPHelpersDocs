{
 "cells": [
  {
   "cell_type": "markdown",
   "metadata": {},
   "source": [
    "## Downloads a HTML and format it into a MYP Helper version"
   ]
  },
  {
   "cell_type": "code",
   "execution_count": 6,
   "metadata": {},
   "outputs": [
    {
     "name": "stdout",
     "output_type": "stream",
     "text": [
      "<!--Generated programmatically with Python -->\n",
      "</tr><tr>\n",
      "<td class=\"tooltip\">Balance: biology specific<span class=\"tooltiptext green\"> The dynamic equilibrium that exists among members of a stable natural community; the regulation of the internal environment of an organism. </span></td>\n",
      "<td class=\"tooltip\">Balance: chemistry specific<span class=\"tooltiptext green\"> A state of equilibrium or stable distribution.</span></td>\n",
      "<td class=\"tooltip\">Conditions: chemistry specific<span class=\"tooltiptext green\">The environment, both physical and chemical, of a reaction or process; factors which contribute to an interaction including temperature, pressure, concentration, pH and the absence or presence of a catalyst. </span></td>\n",
      "</tr><tr>\n",
      "<td class=\"tooltip\">Consequences<span class=\"tooltiptext blue\">The observable or quantifiable effects, results, or outcomes correlated with an earlier event or events. </span></td>\n",
      "<td class=\"tooltip\">Development: physics specific<span class=\"tooltiptext blue\"> The process of applying theory to data and observations in order to improve, progress, or further scientific understanding. </span></td>\n",
      "<td class=\"tooltip\">Energy<span class=\"tooltiptext blue\"> The capacity of an object to do work or transfer heat.</span></td>\n",
      "</tr><tr>\n",
      "<td class=\"tooltip\">Environment: biology specific<span class=\"tooltiptext red\"> All of the biotic and abiotic factors that act on an organism, population or community and influence its survival, evolution and development. </span></td>\n",
      "<td class=\"tooltip\">Environment: physics specific<span class=\"tooltiptext red\">A description of the universe or a closed system through the application of the laws of physics; the complex of physical conditions or climate affecting a habitat or community. </span></td>\n",
      "<td class=\"tooltip\">Evidence<span class=\"tooltiptext red\"> Support for a proposition derived from observation and interpretation of data.</span></td>\n",
      "</tr><tr>\n",
      "<td class=\"tooltip\">Form<span class=\"tooltiptext red\"> The features of an object that can be observed, identified, described, classified and categorized. </span></td>\n",
      "<td class=\"tooltip\">Function<span class=\"tooltiptext red\"> A purpose, a role or a way of behaving that can be investigated; a mathematical relationship between variables. </span></td>\n",
      "<td class=\"tooltip\">Interaction<span class=\"tooltiptext red\"> The effect or effects two or more systems, bodies, substances or organisms have on one another, so that the overall result is not simply the sum of the separate effects. </span></td>\n",
      "</tr><tr>\n",
      "<td class=\"tooltip\">Models<span class=\"tooltiptext green\"> Representations used for testing scientific theories or proposals that can be accurately repeated and validated; simulations used for explaining or predicting processes which may not be observable or to understand the dynamics of multiple underlying phenomena of a complex system. </span></td>\n",
      "<td class=\"tooltip\">Movement<span class=\"tooltiptext green\"> The act, process, or result of displacing from one location or position to another within a defined frame of reference. </span></td>\n",
      "<td class=\"tooltip\">Patterns<span class=\"tooltiptext green\"> The distribution of variables in time or space; sequences of events or features.</span></td>\n",
      "</tr><tr>\n",
      "<td class=\"tooltip\">Transfer: chemistry specific<span class=\"tooltiptext blue\"> The net movement of matter or particles from one location to another.</span></td>\n",
      "<td class=\"tooltip\">Transformation: biology specific<span class=\"tooltiptext blue\"> Differentiation of a cell; change of energy form, including at a molecular level; alteration of molecules and metabolism and/or genetic make-up of an organism or species and consequently a community, relative to external factors.</span></td>\n",
      "<td class=\"tooltip\">Transformation: physics specific<span class=\"tooltiptext blue\"> A change from one well-defined state to another well-defined state; an alteration in form or condition, including energy and particle nature. </span></td>\n",
      "</tr>\n"
     ]
    }
   ],
   "source": [
    "import urllib.request\n",
    "from lxml import etree\n",
    "from bs4 import BeautifulSoup\n",
    "import re\n",
    "\n",
    "col_per_row = 3\n",
    "head = '<td class=\"tooltip\">'\n",
    "tail = '</td>'\n",
    "head_row = '</tr><tr>'\n",
    "head_def = '<span class=\"tooltiptext {}\">'\n",
    "tail_def = '</span></td>'\n",
    "color = ['red', 'green', 'blue',  'red']\n",
    "#Get the terms in a dictionary\n",
    "curr_color = 0\n",
    "\n",
    "path_to_related = \"https://ibpublishing.ibo.org/server2/rest/app/tsm.xql?doc=m_4_scien_guu_1409_1_e&part=5&chapter=1\"\n",
    "web = urllib.request.urlopen(path_to_related)\n",
    "s = web.read()\n",
    "soup = BeautifulSoup(s,\"html.parser\")\n",
    "\n",
    "table = soup.find('table')\n",
    "td = table.find_all('td',{'class': 'Glossaryterm'})\n",
    "regex = r'\\>(.*?)\\<'\n",
    "terms = [re.findall(regex, str(re.sub('\\n','',re.sub(' +',' ',str(t)))))[0] for t in td]\n",
    "regex = r'\\>(.*?)\\<'\n",
    "\n",
    "td = table.find_all('td',{'class': 'Glossarydefinition'})\n",
    "definitions = [re.findall(regex, str(re.sub('\\n','',re.sub(' +',' ',str(t)))))[0] for t in td]\n",
    "\n",
    "print('<!--Generated programmatically with Python -->')\n",
    "for k, (t, d) in enumerate(zip(terms, definitions)):\n",
    "    \n",
    "    if k%col_per_row == 0:        \n",
    "        print(head_row)\n",
    "        curr_color +=1\n",
    "        if curr_color>col_per_row:\n",
    "            curr_color = 0\n",
    "    print(head + t + head_def.format(color[curr_color]) + d + tail_def) \n",
    "print('</tr>')"
   ]
  },
  {
   "cell_type": "code",
   "execution_count": null,
   "metadata": {
    "collapsed": true
   },
   "outputs": [],
   "source": []
  }
 ],
 "metadata": {
  "kernelspec": {
   "display_name": "Python 3",
   "language": "python",
   "name": "python3"
  },
  "language_info": {
   "codemirror_mode": {
    "name": "ipython",
    "version": 3
   },
   "file_extension": ".py",
   "mimetype": "text/x-python",
   "name": "python",
   "nbconvert_exporter": "python",
   "pygments_lexer": "ipython3",
   "version": "3.6.2"
  }
 },
 "nbformat": 4,
 "nbformat_minor": 2
}
